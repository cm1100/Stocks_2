{
  "nbformat": 4,
  "nbformat_minor": 0,
  "metadata": {
    "accelerator": "GPU",
    "colab": {
      "name": "Untitled6.ipynb",
      "provenance": [],
      "collapsed_sections": []
    },
    "kernelspec": {
      "display_name": "Python 3",
      "name": "python3"
    }
  },
  "cells": [
    {
      "cell_type": "code",
      "metadata": {
        "colab": {
          "base_uri": "https://localhost:8080/"
        },
        "id": "c22m-6G8w9ai",
        "outputId": "65fcb1ae-02b7-4527-816a-ca24ad5997a8"
      },
      "source": [
        "!pip install tensorflow-gpu"
      ],
      "execution_count": null,
      "outputs": [
        {
          "output_type": "stream",
          "name": "stdout",
          "text": [
            "Collecting tensorflow-gpu\n",
            "  Downloading tensorflow_gpu-2.6.0-cp37-cp37m-manylinux2010_x86_64.whl (458.3 MB)\n",
            "\u001b[K     |████████████████████████████████| 458.3 MB 12 kB/s \n",
            "\u001b[?25hRequirement already satisfied: six~=1.15.0 in /usr/local/lib/python3.7/dist-packages (from tensorflow-gpu) (1.15.0)\n",
            "Requirement already satisfied: opt-einsum~=3.3.0 in /usr/local/lib/python3.7/dist-packages (from tensorflow-gpu) (3.3.0)\n",
            "Requirement already satisfied: protobuf>=3.9.2 in /usr/local/lib/python3.7/dist-packages (from tensorflow-gpu) (3.17.3)\n",
            "Requirement already satisfied: keras-preprocessing~=1.1.2 in /usr/local/lib/python3.7/dist-packages (from tensorflow-gpu) (1.1.2)\n",
            "Requirement already satisfied: typing-extensions~=3.7.4 in /usr/local/lib/python3.7/dist-packages (from tensorflow-gpu) (3.7.4.3)\n",
            "Requirement already satisfied: grpcio<2.0,>=1.37.0 in /usr/local/lib/python3.7/dist-packages (from tensorflow-gpu) (1.41.0)\n",
            "Requirement already satisfied: clang~=5.0 in /usr/local/lib/python3.7/dist-packages (from tensorflow-gpu) (5.0)\n",
            "Requirement already satisfied: wheel~=0.35 in /usr/local/lib/python3.7/dist-packages (from tensorflow-gpu) (0.37.0)\n",
            "Requirement already satisfied: flatbuffers~=1.12.0 in /usr/local/lib/python3.7/dist-packages (from tensorflow-gpu) (1.12)\n",
            "Requirement already satisfied: astunparse~=1.6.3 in /usr/local/lib/python3.7/dist-packages (from tensorflow-gpu) (1.6.3)\n",
            "Requirement already satisfied: tensorflow-estimator~=2.6 in /usr/local/lib/python3.7/dist-packages (from tensorflow-gpu) (2.6.0)\n",
            "Requirement already satisfied: wrapt~=1.12.1 in /usr/local/lib/python3.7/dist-packages (from tensorflow-gpu) (1.12.1)\n",
            "Requirement already satisfied: absl-py~=0.10 in /usr/local/lib/python3.7/dist-packages (from tensorflow-gpu) (0.12.0)\n",
            "Requirement already satisfied: h5py~=3.1.0 in /usr/local/lib/python3.7/dist-packages (from tensorflow-gpu) (3.1.0)\n",
            "Requirement already satisfied: termcolor~=1.1.0 in /usr/local/lib/python3.7/dist-packages (from tensorflow-gpu) (1.1.0)\n",
            "Requirement already satisfied: google-pasta~=0.2 in /usr/local/lib/python3.7/dist-packages (from tensorflow-gpu) (0.2.0)\n",
            "Requirement already satisfied: numpy~=1.19.2 in /usr/local/lib/python3.7/dist-packages (from tensorflow-gpu) (1.19.5)\n",
            "Requirement already satisfied: keras~=2.6 in /usr/local/lib/python3.7/dist-packages (from tensorflow-gpu) (2.6.0)\n",
            "Requirement already satisfied: gast==0.4.0 in /usr/local/lib/python3.7/dist-packages (from tensorflow-gpu) (0.4.0)\n",
            "Requirement already satisfied: tensorboard~=2.6 in /usr/local/lib/python3.7/dist-packages (from tensorflow-gpu) (2.6.0)\n",
            "Requirement already satisfied: cached-property in /usr/local/lib/python3.7/dist-packages (from h5py~=3.1.0->tensorflow-gpu) (1.5.2)\n",
            "Requirement already satisfied: markdown>=2.6.8 in /usr/local/lib/python3.7/dist-packages (from tensorboard~=2.6->tensorflow-gpu) (3.3.4)\n",
            "Requirement already satisfied: setuptools>=41.0.0 in /usr/local/lib/python3.7/dist-packages (from tensorboard~=2.6->tensorflow-gpu) (57.4.0)\n",
            "Requirement already satisfied: google-auth-oauthlib<0.5,>=0.4.1 in /usr/local/lib/python3.7/dist-packages (from tensorboard~=2.6->tensorflow-gpu) (0.4.6)\n",
            "Requirement already satisfied: tensorboard-plugin-wit>=1.6.0 in /usr/local/lib/python3.7/dist-packages (from tensorboard~=2.6->tensorflow-gpu) (1.8.0)\n",
            "Requirement already satisfied: werkzeug>=0.11.15 in /usr/local/lib/python3.7/dist-packages (from tensorboard~=2.6->tensorflow-gpu) (1.0.1)\n",
            "Requirement already satisfied: google-auth<2,>=1.6.3 in /usr/local/lib/python3.7/dist-packages (from tensorboard~=2.6->tensorflow-gpu) (1.35.0)\n",
            "Requirement already satisfied: requests<3,>=2.21.0 in /usr/local/lib/python3.7/dist-packages (from tensorboard~=2.6->tensorflow-gpu) (2.23.0)\n",
            "Requirement already satisfied: tensorboard-data-server<0.7.0,>=0.6.0 in /usr/local/lib/python3.7/dist-packages (from tensorboard~=2.6->tensorflow-gpu) (0.6.1)\n",
            "Requirement already satisfied: cachetools<5.0,>=2.0.0 in /usr/local/lib/python3.7/dist-packages (from google-auth<2,>=1.6.3->tensorboard~=2.6->tensorflow-gpu) (4.2.4)\n",
            "Requirement already satisfied: pyasn1-modules>=0.2.1 in /usr/local/lib/python3.7/dist-packages (from google-auth<2,>=1.6.3->tensorboard~=2.6->tensorflow-gpu) (0.2.8)\n",
            "Requirement already satisfied: rsa<5,>=3.1.4 in /usr/local/lib/python3.7/dist-packages (from google-auth<2,>=1.6.3->tensorboard~=2.6->tensorflow-gpu) (4.7.2)\n",
            "Requirement already satisfied: requests-oauthlib>=0.7.0 in /usr/local/lib/python3.7/dist-packages (from google-auth-oauthlib<0.5,>=0.4.1->tensorboard~=2.6->tensorflow-gpu) (1.3.0)\n",
            "Requirement already satisfied: importlib-metadata in /usr/local/lib/python3.7/dist-packages (from markdown>=2.6.8->tensorboard~=2.6->tensorflow-gpu) (4.8.1)\n",
            "Requirement already satisfied: pyasn1<0.5.0,>=0.4.6 in /usr/local/lib/python3.7/dist-packages (from pyasn1-modules>=0.2.1->google-auth<2,>=1.6.3->tensorboard~=2.6->tensorflow-gpu) (0.4.8)\n",
            "Requirement already satisfied: chardet<4,>=3.0.2 in /usr/local/lib/python3.7/dist-packages (from requests<3,>=2.21.0->tensorboard~=2.6->tensorflow-gpu) (3.0.4)\n",
            "Requirement already satisfied: idna<3,>=2.5 in /usr/local/lib/python3.7/dist-packages (from requests<3,>=2.21.0->tensorboard~=2.6->tensorflow-gpu) (2.10)\n",
            "Requirement already satisfied: urllib3!=1.25.0,!=1.25.1,<1.26,>=1.21.1 in /usr/local/lib/python3.7/dist-packages (from requests<3,>=2.21.0->tensorboard~=2.6->tensorflow-gpu) (1.24.3)\n",
            "Requirement already satisfied: certifi>=2017.4.17 in /usr/local/lib/python3.7/dist-packages (from requests<3,>=2.21.0->tensorboard~=2.6->tensorflow-gpu) (2021.5.30)\n",
            "Requirement already satisfied: oauthlib>=3.0.0 in /usr/local/lib/python3.7/dist-packages (from requests-oauthlib>=0.7.0->google-auth-oauthlib<0.5,>=0.4.1->tensorboard~=2.6->tensorflow-gpu) (3.1.1)\n",
            "Requirement already satisfied: zipp>=0.5 in /usr/local/lib/python3.7/dist-packages (from importlib-metadata->markdown>=2.6.8->tensorboard~=2.6->tensorflow-gpu) (3.6.0)\n",
            "Installing collected packages: tensorflow-gpu\n"
          ]
        }
      ]
    },
    {
      "cell_type": "code",
      "metadata": {
        "colab": {
          "base_uri": "https://localhost:8080/"
        },
        "id": "v3VFo1hjnPTb",
        "outputId": "9491afe0-4125-430e-b57b-ebc592ec45e7"
      },
      "source": [
        "!nvidia-smi"
      ],
      "execution_count": null,
      "outputs": [
        {
          "output_type": "stream",
          "text": [
            "Tue Jul 13 10:09:11 2021       \n",
            "+-----------------------------------------------------------------------------+\n",
            "| NVIDIA-SMI 470.42.01    Driver Version: 460.32.03    CUDA Version: 11.2     |\n",
            "|-------------------------------+----------------------+----------------------+\n",
            "| GPU  Name        Persistence-M| Bus-Id        Disp.A | Volatile Uncorr. ECC |\n",
            "| Fan  Temp  Perf  Pwr:Usage/Cap|         Memory-Usage | GPU-Util  Compute M. |\n",
            "|                               |                      |               MIG M. |\n",
            "|===============================+======================+======================|\n",
            "|   0  Tesla T4            Off  | 00000000:00:04.0 Off |                    0 |\n",
            "| N/A   42C    P8     9W /  70W |      0MiB / 15109MiB |      0%      Default |\n",
            "|                               |                      |                  N/A |\n",
            "+-------------------------------+----------------------+----------------------+\n",
            "                                                                               \n",
            "+-----------------------------------------------------------------------------+\n",
            "| Processes:                                                                  |\n",
            "|  GPU   GI   CI        PID   Type   Process name                  GPU Memory |\n",
            "|        ID   ID                                                   Usage      |\n",
            "|=============================================================================|\n",
            "|  No running processes found                                                 |\n",
            "+-----------------------------------------------------------------------------+\n"
          ],
          "name": "stdout"
        }
      ]
    },
    {
      "cell_type": "code",
      "metadata": {
        "colab": {
          "base_uri": "https://localhost:8080/"
        },
        "id": "76Pg4SNNnYGy",
        "outputId": "b8eaf74c-cd6c-4335-f691-dae27a7c1f2c"
      },
      "source": [
        "!pip install --upgrade grpcio >> /dev/null"
      ],
      "execution_count": null,
      "outputs": [
        {
          "output_type": "stream",
          "text": [
            "\u001b[31mERROR: tensorflow 2.5.0 has requirement grpcio~=1.34.0, but you'll have grpcio 1.38.1 which is incompatible.\u001b[0m\n",
            "\u001b[31mERROR: tensorflow-gpu 2.5.0 has requirement grpcio~=1.34.0, but you'll have grpcio 1.38.1 which is incompatible.\u001b[0m\n"
          ],
          "name": "stdout"
        }
      ]
    },
    {
      "cell_type": "code",
      "metadata": {
        "id": "ceYNPiIrnnTl",
        "colab": {
          "base_uri": "https://localhost:8080/"
        },
        "outputId": "9a4ed531-3a29-42ce-b819-aae918b98f66"
      },
      "source": [
        "!pip install --upgrade grpcio==1.32.0 >> /dev/null"
      ],
      "execution_count": null,
      "outputs": [
        {
          "output_type": "stream",
          "text": [
            "\u001b[31mERROR: tensorflow 2.5.0 has requirement grpcio~=1.34.0, but you'll have grpcio 1.32.0 which is incompatible.\u001b[0m\n",
            "\u001b[31mERROR: tensorflow-gpu 2.5.0 has requirement grpcio~=1.34.0, but you'll have grpcio 1.32.0 which is incompatible.\u001b[0m\n"
          ],
          "name": "stdout"
        }
      ]
    },
    {
      "cell_type": "code",
      "metadata": {
        "colab": {
          "base_uri": "https://localhost:8080/"
        },
        "id": "yKTSr6Tzn2Yu",
        "outputId": "52ea0108-fa3d-4db0-fad5-b83cb38f222e"
      },
      "source": [
        "!pip install tqdm\n",
        "!pip install bert-for-tf2"
      ],
      "execution_count": null,
      "outputs": [
        {
          "output_type": "stream",
          "text": [
            "Requirement already satisfied: tqdm in /usr/local/lib/python3.7/dist-packages (4.41.1)\n",
            "Collecting bert-for-tf2\n",
            "\u001b[?25l  Downloading https://files.pythonhosted.org/packages/a5/a1/acb891630749c56901e770a34d6bac8a509a367dd74a05daf7306952e910/bert-for-tf2-0.14.9.tar.gz (41kB)\n",
            "\u001b[K     |████████████████████████████████| 51kB 6.7MB/s \n",
            "\u001b[?25hCollecting py-params>=0.9.6\n",
            "  Downloading https://files.pythonhosted.org/packages/aa/e0/4f663d8abf83c8084b75b995bd2ab3a9512ebc5b97206fde38cef906ab07/py-params-0.10.2.tar.gz\n",
            "Collecting params-flow>=0.8.0\n",
            "  Downloading https://files.pythonhosted.org/packages/a9/95/ff49f5ebd501f142a6f0aaf42bcfd1c192dc54909d1d9eb84ab031d46056/params-flow-0.8.2.tar.gz\n",
            "Requirement already satisfied: numpy in /usr/local/lib/python3.7/dist-packages (from params-flow>=0.8.0->bert-for-tf2) (1.19.5)\n",
            "Requirement already satisfied: tqdm in /usr/local/lib/python3.7/dist-packages (from params-flow>=0.8.0->bert-for-tf2) (4.41.1)\n",
            "Building wheels for collected packages: bert-for-tf2, py-params, params-flow\n",
            "  Building wheel for bert-for-tf2 (setup.py) ... \u001b[?25l\u001b[?25hdone\n",
            "  Created wheel for bert-for-tf2: filename=bert_for_tf2-0.14.9-cp37-none-any.whl size=30535 sha256=64587eebe4ee8f3d032472a4741b130b65dedcf89a0ba0cda3fd57624da0419f\n",
            "  Stored in directory: /root/.cache/pip/wheels/a1/04/ee/347bd9f5b821b637c76411d280271a857aece00358896a230f\n",
            "  Building wheel for py-params (setup.py) ... \u001b[?25l\u001b[?25hdone\n",
            "  Created wheel for py-params: filename=py_params-0.10.2-cp37-none-any.whl size=7912 sha256=2aaf807c5df586e1b6a8296d31793fab703877f120bee9984c4059c2f97df3ca\n",
            "  Stored in directory: /root/.cache/pip/wheels/d0/4a/70/ff12450229ff1955abf01f365051d4faae1c20aef53ab4cf09\n",
            "  Building wheel for params-flow (setup.py) ... \u001b[?25l\u001b[?25hdone\n",
            "  Created wheel for params-flow: filename=params_flow-0.8.2-cp37-none-any.whl size=19472 sha256=fd34229cdd298bd3c063ffa5cfdb654b8243d25a905484917458906b66c6dd1d\n",
            "  Stored in directory: /root/.cache/pip/wheels/08/c8/7f/81c86b9ff2b86e2c477e3914175be03e679e596067dc630c06\n",
            "Successfully built bert-for-tf2 py-params params-flow\n",
            "Installing collected packages: py-params, params-flow, bert-for-tf2\n",
            "Successfully installed bert-for-tf2-0.14.9 params-flow-0.8.2 py-params-0.10.2\n"
          ],
          "name": "stdout"
        }
      ]
    },
    {
      "cell_type": "code",
      "metadata": {
        "colab": {
          "base_uri": "https://localhost:8080/"
        },
        "id": "KAeFsrK_n7Gb",
        "outputId": "a438a34f-8c86-4ce8-815e-c097c836aa7c"
      },
      "source": [
        "!pip install sentencepiece"
      ],
      "execution_count": null,
      "outputs": [
        {
          "output_type": "stream",
          "text": [
            "Collecting sentencepiece\n",
            "\u001b[?25l  Downloading https://files.pythonhosted.org/packages/ac/aa/1437691b0c7c83086ebb79ce2da16e00bef024f24fec2a5161c35476f499/sentencepiece-0.1.96-cp37-cp37m-manylinux_2_17_x86_64.manylinux2014_x86_64.whl (1.2MB)\n",
            "\r\u001b[K     |▎                               | 10kB 18.9MB/s eta 0:00:01\r\u001b[K     |▌                               | 20kB 26.0MB/s eta 0:00:01\r\u001b[K     |▉                               | 30kB 21.1MB/s eta 0:00:01\r\u001b[K     |█                               | 40kB 16.4MB/s eta 0:00:01\r\u001b[K     |█▍                              | 51kB 8.7MB/s eta 0:00:01\r\u001b[K     |█▋                              | 61kB 7.7MB/s eta 0:00:01\r\u001b[K     |██                              | 71kB 8.6MB/s eta 0:00:01\r\u001b[K     |██▏                             | 81kB 9.5MB/s eta 0:00:01\r\u001b[K     |██▍                             | 92kB 10.2MB/s eta 0:00:01\r\u001b[K     |██▊                             | 102kB 8.3MB/s eta 0:00:01\r\u001b[K     |███                             | 112kB 8.3MB/s eta 0:00:01\r\u001b[K     |███▎                            | 122kB 8.3MB/s eta 0:00:01\r\u001b[K     |███▌                            | 133kB 8.3MB/s eta 0:00:01\r\u001b[K     |███▉                            | 143kB 8.3MB/s eta 0:00:01\r\u001b[K     |████                            | 153kB 8.3MB/s eta 0:00:01\r\u001b[K     |████▎                           | 163kB 8.3MB/s eta 0:00:01\r\u001b[K     |████▋                           | 174kB 8.3MB/s eta 0:00:01\r\u001b[K     |████▉                           | 184kB 8.3MB/s eta 0:00:01\r\u001b[K     |█████▏                          | 194kB 8.3MB/s eta 0:00:01\r\u001b[K     |█████▍                          | 204kB 8.3MB/s eta 0:00:01\r\u001b[K     |█████▊                          | 215kB 8.3MB/s eta 0:00:01\r\u001b[K     |██████                          | 225kB 8.3MB/s eta 0:00:01\r\u001b[K     |██████▏                         | 235kB 8.3MB/s eta 0:00:01\r\u001b[K     |██████▌                         | 245kB 8.3MB/s eta 0:00:01\r\u001b[K     |██████▊                         | 256kB 8.3MB/s eta 0:00:01\r\u001b[K     |███████                         | 266kB 8.3MB/s eta 0:00:01\r\u001b[K     |███████▎                        | 276kB 8.3MB/s eta 0:00:01\r\u001b[K     |███████▋                        | 286kB 8.3MB/s eta 0:00:01\r\u001b[K     |███████▉                        | 296kB 8.3MB/s eta 0:00:01\r\u001b[K     |████████                        | 307kB 8.3MB/s eta 0:00:01\r\u001b[K     |████████▍                       | 317kB 8.3MB/s eta 0:00:01\r\u001b[K     |████████▋                       | 327kB 8.3MB/s eta 0:00:01\r\u001b[K     |█████████                       | 337kB 8.3MB/s eta 0:00:01\r\u001b[K     |█████████▏                      | 348kB 8.3MB/s eta 0:00:01\r\u001b[K     |█████████▌                      | 358kB 8.3MB/s eta 0:00:01\r\u001b[K     |█████████▊                      | 368kB 8.3MB/s eta 0:00:01\r\u001b[K     |██████████                      | 378kB 8.3MB/s eta 0:00:01\r\u001b[K     |██████████▎                     | 389kB 8.3MB/s eta 0:00:01\r\u001b[K     |██████████▌                     | 399kB 8.3MB/s eta 0:00:01\r\u001b[K     |██████████▉                     | 409kB 8.3MB/s eta 0:00:01\r\u001b[K     |███████████                     | 419kB 8.3MB/s eta 0:00:01\r\u001b[K     |███████████▍                    | 430kB 8.3MB/s eta 0:00:01\r\u001b[K     |███████████▋                    | 440kB 8.3MB/s eta 0:00:01\r\u001b[K     |███████████▉                    | 450kB 8.3MB/s eta 0:00:01\r\u001b[K     |████████████▏                   | 460kB 8.3MB/s eta 0:00:01\r\u001b[K     |████████████▍                   | 471kB 8.3MB/s eta 0:00:01\r\u001b[K     |████████████▊                   | 481kB 8.3MB/s eta 0:00:01\r\u001b[K     |█████████████                   | 491kB 8.3MB/s eta 0:00:01\r\u001b[K     |█████████████▎                  | 501kB 8.3MB/s eta 0:00:01\r\u001b[K     |█████████████▌                  | 512kB 8.3MB/s eta 0:00:01\r\u001b[K     |█████████████▊                  | 522kB 8.3MB/s eta 0:00:01\r\u001b[K     |██████████████                  | 532kB 8.3MB/s eta 0:00:01\r\u001b[K     |██████████████▎                 | 542kB 8.3MB/s eta 0:00:01\r\u001b[K     |██████████████▋                 | 552kB 8.3MB/s eta 0:00:01\r\u001b[K     |██████████████▉                 | 563kB 8.3MB/s eta 0:00:01\r\u001b[K     |███████████████▏                | 573kB 8.3MB/s eta 0:00:01\r\u001b[K     |███████████████▍                | 583kB 8.3MB/s eta 0:00:01\r\u001b[K     |███████████████▋                | 593kB 8.3MB/s eta 0:00:01\r\u001b[K     |████████████████                | 604kB 8.3MB/s eta 0:00:01\r\u001b[K     |████████████████▏               | 614kB 8.3MB/s eta 0:00:01\r\u001b[K     |████████████████▌               | 624kB 8.3MB/s eta 0:00:01\r\u001b[K     |████████████████▊               | 634kB 8.3MB/s eta 0:00:01\r\u001b[K     |█████████████████               | 645kB 8.3MB/s eta 0:00:01\r\u001b[K     |█████████████████▎              | 655kB 8.3MB/s eta 0:00:01\r\u001b[K     |█████████████████▌              | 665kB 8.3MB/s eta 0:00:01\r\u001b[K     |█████████████████▉              | 675kB 8.3MB/s eta 0:00:01\r\u001b[K     |██████████████████              | 686kB 8.3MB/s eta 0:00:01\r\u001b[K     |██████████████████▍             | 696kB 8.3MB/s eta 0:00:01\r\u001b[K     |██████████████████▋             | 706kB 8.3MB/s eta 0:00:01\r\u001b[K     |███████████████████             | 716kB 8.3MB/s eta 0:00:01\r\u001b[K     |███████████████████▏            | 727kB 8.3MB/s eta 0:00:01\r\u001b[K     |███████████████████▍            | 737kB 8.3MB/s eta 0:00:01\r\u001b[K     |███████████████████▊            | 747kB 8.3MB/s eta 0:00:01\r\u001b[K     |████████████████████            | 757kB 8.3MB/s eta 0:00:01\r\u001b[K     |████████████████████▎           | 768kB 8.3MB/s eta 0:00:01\r\u001b[K     |████████████████████▌           | 778kB 8.3MB/s eta 0:00:01\r\u001b[K     |████████████████████▉           | 788kB 8.3MB/s eta 0:00:01\r\u001b[K     |█████████████████████           | 798kB 8.3MB/s eta 0:00:01\r\u001b[K     |█████████████████████▎          | 808kB 8.3MB/s eta 0:00:01\r\u001b[K     |█████████████████████▋          | 819kB 8.3MB/s eta 0:00:01\r\u001b[K     |█████████████████████▉          | 829kB 8.3MB/s eta 0:00:01\r\u001b[K     |██████████████████████▏         | 839kB 8.3MB/s eta 0:00:01\r\u001b[K     |██████████████████████▍         | 849kB 8.3MB/s eta 0:00:01\r\u001b[K     |██████████████████████▊         | 860kB 8.3MB/s eta 0:00:01\r\u001b[K     |███████████████████████         | 870kB 8.3MB/s eta 0:00:01\r\u001b[K     |███████████████████████▏        | 880kB 8.3MB/s eta 0:00:01\r\u001b[K     |███████████████████████▌        | 890kB 8.3MB/s eta 0:00:01\r\u001b[K     |███████████████████████▊        | 901kB 8.3MB/s eta 0:00:01\r\u001b[K     |████████████████████████        | 911kB 8.3MB/s eta 0:00:01\r\u001b[K     |████████████████████████▎       | 921kB 8.3MB/s eta 0:00:01\r\u001b[K     |████████████████████████▋       | 931kB 8.3MB/s eta 0:00:01\r\u001b[K     |████████████████████████▉       | 942kB 8.3MB/s eta 0:00:01\r\u001b[K     |█████████████████████████       | 952kB 8.3MB/s eta 0:00:01\r\u001b[K     |█████████████████████████▍      | 962kB 8.3MB/s eta 0:00:01\r\u001b[K     |█████████████████████████▋      | 972kB 8.3MB/s eta 0:00:01\r\u001b[K     |██████████████████████████      | 983kB 8.3MB/s eta 0:00:01\r\u001b[K     |██████████████████████████▏     | 993kB 8.3MB/s eta 0:00:01\r\u001b[K     |██████████████████████████▌     | 1.0MB 8.3MB/s eta 0:00:01\r\u001b[K     |██████████████████████████▊     | 1.0MB 8.3MB/s eta 0:00:01\r\u001b[K     |███████████████████████████     | 1.0MB 8.3MB/s eta 0:00:01\r\u001b[K     |███████████████████████████▎    | 1.0MB 8.3MB/s eta 0:00:01\r\u001b[K     |███████████████████████████▌    | 1.0MB 8.3MB/s eta 0:00:01\r\u001b[K     |███████████████████████████▉    | 1.1MB 8.3MB/s eta 0:00:01\r\u001b[K     |████████████████████████████    | 1.1MB 8.3MB/s eta 0:00:01\r\u001b[K     |████████████████████████████▍   | 1.1MB 8.3MB/s eta 0:00:01\r\u001b[K     |████████████████████████████▋   | 1.1MB 8.3MB/s eta 0:00:01\r\u001b[K     |████████████████████████████▉   | 1.1MB 8.3MB/s eta 0:00:01\r\u001b[K     |█████████████████████████████▏  | 1.1MB 8.3MB/s eta 0:00:01\r\u001b[K     |█████████████████████████████▍  | 1.1MB 8.3MB/s eta 0:00:01\r\u001b[K     |█████████████████████████████▊  | 1.1MB 8.3MB/s eta 0:00:01\r\u001b[K     |██████████████████████████████  | 1.1MB 8.3MB/s eta 0:00:01\r\u001b[K     |██████████████████████████████▎ | 1.1MB 8.3MB/s eta 0:00:01\r\u001b[K     |██████████████████████████████▌ | 1.2MB 8.3MB/s eta 0:00:01\r\u001b[K     |██████████████████████████████▊ | 1.2MB 8.3MB/s eta 0:00:01\r\u001b[K     |███████████████████████████████ | 1.2MB 8.3MB/s eta 0:00:01\r\u001b[K     |███████████████████████████████▎| 1.2MB 8.3MB/s eta 0:00:01\r\u001b[K     |███████████████████████████████▋| 1.2MB 8.3MB/s eta 0:00:01\r\u001b[K     |███████████████████████████████▉| 1.2MB 8.3MB/s eta 0:00:01\r\u001b[K     |████████████████████████████████| 1.2MB 8.3MB/s \n",
            "\u001b[?25hInstalling collected packages: sentencepiece\n",
            "Successfully installed sentencepiece-0.1.96\n"
          ],
          "name": "stdout"
        }
      ]
    },
    {
      "cell_type": "code",
      "metadata": {
        "colab": {
          "base_uri": "https://localhost:8080/"
        },
        "id": "sny4s1rsto9i",
        "outputId": "e6ced5d8-21e0-4947-e169-e804adb1c18e"
      },
      "source": [
        "\n",
        "!pip install scikit-learn"
      ],
      "execution_count": null,
      "outputs": [
        {
          "output_type": "stream",
          "text": [
            "Requirement already satisfied: scikit-learn in /usr/local/lib/python3.7/dist-packages (0.22.2.post1)\n",
            "Requirement already satisfied: scipy>=0.17.0 in /usr/local/lib/python3.7/dist-packages (from scikit-learn) (1.4.1)\n",
            "Requirement already satisfied: joblib>=0.11 in /usr/local/lib/python3.7/dist-packages (from scikit-learn) (1.0.1)\n",
            "Requirement already satisfied: numpy>=1.11.0 in /usr/local/lib/python3.7/dist-packages (from scikit-learn) (1.19.5)\n"
          ],
          "name": "stdout"
        }
      ]
    },
    {
      "cell_type": "code",
      "metadata": {
        "id": "cMuqKqxPoG5K"
      },
      "source": [
        "import os\n",
        "import math\n",
        "\n",
        "from tqdm import tqdm\n",
        "\n",
        "import pandas as pd\n",
        "import numpy as np\n",
        "\n",
        "import tensorflow as tf\n",
        "from tensorflow import keras\n",
        "\n",
        "import bert\n",
        "from bert import BertModelLayer\n",
        "from bert.loader import StockBertConfig,map_stock_config_to_params,load_stock_weights\n",
        "from bert.tokenization.bert_tokenization import FullTokenizer\n",
        "\n",
        "import seaborn as sns\n",
        "from pylab import rcParams\n",
        "import matplotlib.pyplot as plt\n",
        "from matplotlib.ticker import MaxNLocator\n",
        "from matplotlib import rc\n",
        "\n",
        "\n",
        "from sklearn.metrics import confusion_matrix , classification_report\n",
        "\n",
        "%matplotlib inline\n",
        "%config InlineBackend.figure_format = \"retina\""
      ],
      "execution_count": null,
      "outputs": []
    },
    {
      "cell_type": "code",
      "metadata": {
        "id": "5ZtauFFLp3g9"
      },
      "source": [
        "sns.set(style=\"whitegrid\",palette=\"muted\",font_scale=1.2)\n",
        "HAPPY_COLORS_PALLETE =[\"#01BEFE\",\"#FFDD00\",\"#FF7D00\",\"#FF006D\",\"#ADFF02\",\"#8F00FF\"]\n",
        "\n",
        "sns.set_palette(sns.color_palette(HAPPY_COLORS_PALLETE))\n",
        "\n",
        "rcParams[\"figure.figsize\"]=12,8\n",
        "\n",
        "RANDOM_SEED=42\n",
        "\n",
        "np.random.seed(RANDOM_SEED)\n",
        "tf.random.set_seed(RANDOM_SEED)\n"
      ],
      "execution_count": null,
      "outputs": []
    },
    {
      "cell_type": "code",
      "metadata": {
        "id": "Rs8g4LH_BWRV"
      },
      "source": [
        "train = pd.read_csv(\"drive/MyDrive/data/dataset.csv\",names=[\"article\",\"group\"])\n"
      ],
      "execution_count": null,
      "outputs": []
    },
    {
      "cell_type": "code",
      "metadata": {
        "id": "YWIQtdRCWNpf"
      },
      "source": [
        "for v,x in enumerate(train['article']):\n",
        "    train['article'][v]=x.replace('\\n','')"
      ],
      "execution_count": null,
      "outputs": []
    },
    {
      "cell_type": "code",
      "metadata": {
        "id": "8Qo5DMA_WW8r"
      },
      "source": [
        ""
      ],
      "execution_count": null,
      "outputs": []
    },
    {
      "cell_type": "code",
      "metadata": {
        "id": "UgTNsG4zDcVn"
      },
      "source": [
        "train = train.append(valid).reset_index(drop=True)"
      ],
      "execution_count": null,
      "outputs": []
    },
    {
      "cell_type": "code",
      "metadata": {
        "colab": {
          "base_uri": "https://localhost:8080/"
        },
        "id": "YOjS-k9iEPZs",
        "outputId": "dd21e92f-580a-4355-8076-dcc283f30ef0"
      },
      "source": [
        "print(train.head())"
      ],
      "execution_count": null,
      "outputs": [
        {
          "output_type": "stream",
          "text": [
            "                                            sentence  emotion\n",
            "0                            i didnt feel humiliated  sadness\n",
            "1  i can go from feeling so hopeless to so damned...  sadness\n",
            "2   im grabbing a minute to post i feel greedy wrong    anger\n",
            "3  i am ever feeling nostalgic about the fireplac...     love\n",
            "4                               i am feeling grouchy    anger\n"
          ],
          "name": "stdout"
        }
      ]
    },
    {
      "cell_type": "code",
      "metadata": {
        "colab": {
          "base_uri": "https://localhost:8080/"
        },
        "id": "hVELf7AKES4Q",
        "outputId": "499f91f4-9384-4eac-af93-0f5bcd0cade8"
      },
      "source": [
        "print(train.shape)"
      ],
      "execution_count": null,
      "outputs": [
        {
          "output_type": "stream",
          "text": [
            "(18000, 2)\n"
          ],
          "name": "stdout"
        }
      ]
    },
    {
      "cell_type": "code",
      "metadata": {
        "colab": {
          "base_uri": "https://localhost:8080/"
        },
        "id": "w0rl4stnFSx6",
        "outputId": "6f1fa0db-57f4-455e-a470-487680d04c70"
      },
      "source": [
        "print(train.emotion)"
      ],
      "execution_count": null,
      "outputs": [
        {
          "output_type": "stream",
          "text": [
            "0        sadness\n",
            "1        sadness\n",
            "2          anger\n",
            "3           love\n",
            "4          anger\n",
            "          ...   \n",
            "17995    sadness\n",
            "17996        joy\n",
            "17997        joy\n",
            "17998        joy\n",
            "17999        joy\n",
            "Name: emotion, Length: 18000, dtype: object\n"
          ],
          "name": "stdout"
        }
      ]
    },
    {
      "cell_type": "code",
      "metadata": {
        "colab": {
          "base_uri": "https://localhost:8080/",
          "height": 594
        },
        "id": "EezIezGbElGf",
        "outputId": "352f22fe-b2c9-4481-f5d8-00b7eaf42355"
      },
      "source": [
        "chart = sns.countplot(train.emotion,palette=HAPPY_COLORS_PALLETE)\n",
        "plt.title(\"number of examples per intent\")"
      ],
      "execution_count": null,
      "outputs": [
        {
          "output_type": "stream",
          "text": [
            "/usr/local/lib/python3.7/dist-packages/seaborn/_decorators.py:43: FutureWarning: Pass the following variable as a keyword arg: x. From version 0.12, the only valid positional argument will be `data`, and passing other arguments without an explicit keyword will result in an error or misinterpretation.\n",
            "  FutureWarning\n"
          ],
          "name": "stderr"
        },
        {
          "output_type": "execute_result",
          "data": {
            "text/plain": [
              "Text(0.5, 1.0, 'number of examples per intent')"
            ]
          },
          "metadata": {
            "tags": []
          },
          "execution_count": 15
        },
        {
          "output_type": "display_data",
          "data": {
            "image/png": "[encoded data removed]",
            "text/plain": [
              "<Figure size 864x576 with 1 Axes>"
            ]
          },
          "metadata": {
            "tags": [],
            "image/png": {
              "height": 506,
              "width": 745
            }
          }
        }
      ]
    },
    {
      "cell_type": "code",
      "metadata": {
        "colab": {
          "base_uri": "https://localhost:8080/"
        },
        "id": "849-jQXXFjiA",
        "outputId": "33adc22d-2f65-430f-8ea0-ad8547bd75e5"
      },
      "source": [
        "!wget https://storage.googleapis.com/bert_models/2018_10_18/uncased_L-12_H-768_A-12.zip\n"
      ],
      "execution_count": null,
      "outputs": [
        {
          "output_type": "stream",
          "text": [
            "--2021-03-14 12:32:55--  https://storage.googleapis.com/bert_models/2018_10_18/uncased_L-12_H-768_A-12.zip\n",
            "Resolving storage.googleapis.com (storage.googleapis.com)... 64.233.189.128, 108.177.97.128, 108.177.125.128, ...\n",
            "Connecting to storage.googleapis.com (storage.googleapis.com)|64.233.189.128|:443... connected.\n",
            "HTTP request sent, awaiting response... 200 OK\n",
            "Length: 407727028 (389M) [application/zip]\n",
            "Saving to: ‘uncased_L-12_H-768_A-12.zip’\n",
            "\n",
            "uncased_L-12_H-768_ 100%[===================>] 388.84M   152MB/s    in 2.6s    \n",
            "\n",
            "2021-03-14 12:32:58 (152 MB/s) - ‘uncased_L-12_H-768_A-12.zip’ saved [407727028/407727028]\n",
            "\n"
          ],
          "name": "stdout"
        }
      ]
    },
    {
      "cell_type": "code",
      "metadata": {
        "colab": {
          "base_uri": "https://localhost:8080/"
        },
        "id": "hgxsSEAIKjkf",
        "outputId": "08cbba34-f373-4b41-8379-c759d4e6237e"
      },
      "source": [
        "!unzip uncased_L-12_H-768_A-12.zip"
      ],
      "execution_count": null,
      "outputs": [
        {
          "output_type": "stream",
          "text": [
            "Archive:  uncased_L-12_H-768_A-12.zip\n",
            "   creating: uncased_L-12_H-768_A-12/\n",
            "  inflating: uncased_L-12_H-768_A-12/bert_model.ckpt.meta  \n",
            "  inflating: uncased_L-12_H-768_A-12/bert_model.ckpt.data-00000-of-00001  \n",
            "  inflating: uncased_L-12_H-768_A-12/vocab.txt  \n",
            "  inflating: uncased_L-12_H-768_A-12/bert_model.ckpt.index  \n",
            "  inflating: uncased_L-12_H-768_A-12/bert_config.json  \n"
          ],
          "name": "stdout"
        }
      ]
    },
    {
      "cell_type": "code",
      "metadata": {
        "colab": {
          "base_uri": "https://localhost:8080/"
        },
        "id": "hL0sgH8gLIpw",
        "outputId": "4a598942-71a1-433f-e2ff-5c8b5b4da2b6"
      },
      "source": [
        "!ls\n"
      ],
      "execution_count": null,
      "outputs": [
        {
          "output_type": "stream",
          "text": [
            "drive  sample_data  uncased_L-12_H-768_A-12  uncased_L-12_H-768_A-12.zip\n"
          ],
          "name": "stdout"
        }
      ]
    },
    {
      "cell_type": "code",
      "metadata": {
        "id": "iJChHbA8LKdw"
      },
      "source": [
        "os.makedirs('model',exist_ok=True)"
      ],
      "execution_count": null,
      "outputs": []
    },
    {
      "cell_type": "code",
      "metadata": {
        "id": "Ka-reDEGMgEw"
      },
      "source": [
        "! mv uncased_L-12_H-768_A-12/ model"
      ],
      "execution_count": null,
      "outputs": []
    },
    {
      "cell_type": "code",
      "metadata": {
        "colab": {
          "base_uri": "https://localhost:8080/"
        },
        "id": "8NJ1yJz-MyZ1",
        "outputId": "1ffdb656-9275-4be0-b314-81524b82ab96"
      },
      "source": [
        "bert_model_name = 'uncased_L-12_H-768_A-12'\n",
        "!ls"
      ],
      "execution_count": null,
      "outputs": [
        {
          "output_type": "stream",
          "text": [
            "drive  model  sample_data  uncased_L-12_H-768_A-12.zip\n"
          ],
          "name": "stdout"
        }
      ]
    },
    {
      "cell_type": "code",
      "metadata": {
        "id": "ikWWYvz1NHPR"
      },
      "source": [
        "bert_ckpt_dir = os.path.join(\"model\",bert_model_name)\n",
        "bert_ckpt_file = os.path.join(bert_ckpt_dir,\"bert_model.ckpt\")\n",
        "bert_config_file = os.path.join(bert_ckpt_dir,\"bert_config.json\")\n",
        "\n"
      ],
      "execution_count": null,
      "outputs": []
    },
    {
      "cell_type": "code",
      "metadata": {
        "id": "uGPZbAF1N9ir"
      },
      "source": [
        "class EmotionClassification:\n",
        "\n",
        "  DATA_COLUMN=\"sentence\"\n",
        "  LABEL_COLUMN=\"emotion\"\n",
        "\n",
        "\n",
        "  def __init__(self,train,test,tokenizer:FullTokenizer,classes,max_seq_len=192):\n",
        "    self.tokenizer = tokenizer\n",
        "    self.max_seq_len = 0\n",
        "    self.classes = classes\n",
        "\n",
        "    ((self.train_x,self.train_y),(self.test_x,self.test_y))=map(self.prepare,[train,test])\n",
        "\n",
        "    self.max_seq_len= min(max_seq_len,self.max_seq_len)\n",
        "\n",
        "    self.train_x,self.test_x = map(self.pad,[self.train_x,self.test_x])\n",
        "\n",
        "  def prepare(self,df):\n",
        "    x,y=[],[]\n",
        "\n",
        "    for _,row in tqdm(df.iterrows()):\n",
        "      text,label = row[EmotionClassification.DATA_COLUMN],row[EmotionClassification.LABEL_COLUMN]\n",
        "\n",
        "      tokens = self.tokenizer.tokenize(text)\n",
        "      tokens = [\"[CLS]\"]+tokens+[\"[SEP]\"]\n",
        "        \n",
        "      token_ids = self.tokenizer.convert_tokens_to_ids(tokens)\n",
        "\n",
        "      self.max_seq_len= max(self.max_seq_len,len(token_ids))\n",
        "\n",
        "      x.append(token_ids)\n",
        "      y.append(self.classes.index(label))\n",
        "\n",
        "    return np.array(x),np.array(y)\n",
        "\n",
        "\n",
        "  def pad(self,ids):\n",
        "    x=[]\n",
        "\n",
        "    for input_ids in ids:\n",
        "      cut_point = min(len(input_ids),self.max_seq_len-2)\n",
        "      input_ids = input_ids[:cut_point]\n",
        "      input_ids = input_ids + [0]*(self.max_seq_len-len(input_ids))\n",
        "      x.append(input_ids)\n",
        "\n",
        "    return np.array(x)\n",
        "\n",
        "\n"
      ],
      "execution_count": null,
      "outputs": []
    },
    {
      "cell_type": "code",
      "metadata": {
        "id": "p1ZUM2a5kyiB"
      },
      "source": [
        "tokenizer = FullTokenizer(vocab_file=os.path.join(bert_ckpt_dir,\"vocab.txt\"))"
      ],
      "execution_count": null,
      "outputs": []
    },
    {
      "cell_type": "code",
      "metadata": {
        "id": "nSnpqEXWlXw5"
      },
      "source": [
        "def create_model(max_seq_len,bert_config_file,bert_ckpt_file):\n",
        "  with tf.io.gfile.GFile(bert_config_file,\"r\") as reader:\n",
        "    bc = StockBertConfig.from_json_string(reader.read())\n",
        "    bert_params=map_stock_config_to_params(bc)\n",
        "    bert_params.adapter_size = None\n",
        "    bert = BertModelLayer.from_params(bert_params,name=\"bert\")\n",
        "\n",
        "\n",
        "    input_ids = keras.layers.Input(shape=(max_seq_len,),dtype=\"int32\",name=\"input_ids\")\n",
        "    bert_output = bert(input_ids)\n",
        "\n",
        "    print(\"bert_output\",bert_output.shape)\n",
        "\n",
        "    cls_out = keras.layers.Lambda(lambda seq: seq[:, 0, :])(bert_output)\n",
        "    cls_out = keras.layers.Dropout(0.5)(cls_out)\n",
        "    logits = keras.layers.Dense(units=768, activation=\"tanh\")(cls_out)\n",
        "    logits = keras.layers.Dropout(0.5)(logits)\n",
        "    logits = keras.layers.Dense(units=len(classes), activation=\"softmax\")(logits)\n",
        "\n",
        "    model = keras.Model(inputs=input_ids, outputs=logits)\n",
        "    model.build(input_shape=(None, max_seq_len))\n",
        "\n",
        "    load_stock_weights(bert, bert_ckpt_file)\n",
        "        \n",
        "    return model\n"
      ],
      "execution_count": null,
      "outputs": []
    },
    {
      "cell_type": "code",
      "metadata": {
        "colab": {
          "base_uri": "https://localhost:8080/"
        },
        "id": "cBggUM2rnW3W",
        "outputId": "59fba11d-53b5-4f70-c362-f587ec1a1713"
      },
      "source": [
        "classes = train.emotion.unique().tolist()\n",
        "data = EmotionClassification(train,test,tokenizer,classes,max_seq_len=128)"
      ],
      "execution_count": null,
      "outputs": [
        {
          "output_type": "stream",
          "text": [
            "18000it [00:09, 1961.90it/s]\n",
            "/usr/local/lib/python3.7/dist-packages/ipykernel_launcher.py:34: VisibleDeprecationWarning: Creating an ndarray from ragged nested sequences (which is a list-or-tuple of lists-or-tuples-or ndarrays with different lengths or shapes) is deprecated. If you meant to do this, you must specify 'dtype=object' when creating the ndarray\n",
            "2000it [00:01, 1976.96it/s]\n"
          ],
          "name": "stderr"
        }
      ]
    },
    {
      "cell_type": "code",
      "metadata": {
        "colab": {
          "base_uri": "https://localhost:8080/"
        },
        "id": "GE9_69z0nn1O",
        "outputId": "820c1376-fc48-4fec-88bf-2bdec8e98629"
      },
      "source": [
        "model = create_model(data.max_seq_len,bert_config_file,bert_ckpt_file)"
      ],
      "execution_count": null,
      "outputs": [
        {
          "output_type": "stream",
          "text": [
            "bert_output (None, 87, 768)\n",
            "Done loading 196 BERT weights from: model/uncased_L-12_H-768_A-12/bert_model.ckpt into <bert.model.BertModelLayer object at 0x7f0e4025b1d0> (prefix:bert). Count of weights not found in the checkpoint was: [0]. Count of weights with mismatched shape: [0]\n",
            "Unused weights from checkpoint: \n",
            "\tbert/embeddings/token_type_embeddings\n",
            "\tbert/pooler/dense/bias\n",
            "\tbert/pooler/dense/kernel\n",
            "\tcls/predictions/output_bias\n",
            "\tcls/predictions/transform/LayerNorm/beta\n",
            "\tcls/predictions/transform/LayerNorm/gamma\n",
            "\tcls/predictions/transform/dense/bias\n",
            "\tcls/predictions/transform/dense/kernel\n",
            "\tcls/seq_relationship/output_bias\n",
            "\tcls/seq_relationship/output_weights\n"
          ],
          "name": "stdout"
        }
      ]
    },
    {
      "cell_type": "code",
      "metadata": {
        "colab": {
          "base_uri": "https://localhost:8080/"
        },
        "id": "mz_Wh9QUsTDY",
        "outputId": "cdf94b8e-e441-4dcf-e29b-a3a0409c6cca"
      },
      "source": [
        "print(model.summary())"
      ],
      "execution_count": null,
      "outputs": [
        {
          "output_type": "stream",
          "text": [
            "Model: \"model\"\n",
            "_________________________________________________________________\n",
            "Layer (type)                 Output Shape              Param #   \n",
            "=================================================================\n",
            "input_ids (InputLayer)       [(None, 87)]              0         \n",
            "_________________________________________________________________\n",
            "bert (BertModelLayer)        (None, 87, 768)           108890112 \n",
            "_________________________________________________________________\n",
            "lambda (Lambda)              (None, 768)               0         \n",
            "_________________________________________________________________\n",
            "dropout (Dropout)            (None, 768)               0         \n",
            "_________________________________________________________________\n",
            "dense (Dense)                (None, 768)               590592    \n",
            "_________________________________________________________________\n",
            "dropout_1 (Dropout)          (None, 768)               0         \n",
            "_________________________________________________________________\n",
            "dense_1 (Dense)              (None, 6)                 4614      \n",
            "=================================================================\n",
            "Total params: 109,485,318\n",
            "Trainable params: 109,485,318\n",
            "Non-trainable params: 0\n",
            "_________________________________________________________________\n",
            "None\n"
          ],
          "name": "stdout"
        }
      ]
    },
    {
      "cell_type": "code",
      "metadata": {
        "id": "g2U1_ExctLn6"
      },
      "source": [
        "model.compile(\n",
        "  optimizer=keras.optimizers.Adam(1e-5),\n",
        "  loss=keras.losses.SparseCategoricalCrossentropy(from_logits=True),\n",
        "  metrics=[keras.metrics.SparseCategoricalAccuracy(name=\"acc\")]\n",
        ")"
      ],
      "execution_count": null,
      "outputs": []
    },
    {
      "cell_type": "code",
      "metadata": {
        "colab": {
          "base_uri": "https://localhost:8080/"
        },
        "id": "vLNOTAsUtcZg",
        "outputId": "c0388b58-99c2-41c6-aa26-2ff2fb3b9dbd"
      },
      "source": [
        "import datetime\n",
        "log_dir = \"log/emotion_detection/\" + datetime.datetime.now().strftime(\"%Y%m%d-%H%M%s\")\n",
        "tensorboard_callback = keras.callbacks.TensorBoard(log_dir=log_dir)\n",
        "\n",
        "history = model.fit(\n",
        "  x=data.train_x, \n",
        "  y=data.train_y,\n",
        "  validation_split=0.1,\n",
        "  batch_size=16,\n",
        "  shuffle=True,\n",
        "  epochs=5,\n",
        "  callbacks=[tensorboard_callback]\n",
        ")"
      ],
      "execution_count": null,
      "outputs": [
        {
          "output_type": "stream",
          "text": [
            "Epoch 1/5\n",
            "1013/1013 [==============================] - 840s 809ms/step - loss: 1.3759 - acc: 0.4675 - val_loss: 0.2720 - val_acc: 0.9094\n",
            "Epoch 2/5\n",
            "1013/1013 [==============================] - 806s 796ms/step - loss: 0.2433 - acc: 0.9171 - val_loss: 0.1870 - val_acc: 0.9272\n",
            "Epoch 3/5\n",
            "1013/1013 [==============================] - 815s 804ms/step - loss: 0.1666 - acc: 0.9371 - val_loss: 0.1800 - val_acc: 0.9350\n",
            "Epoch 4/5\n",
            "1013/1013 [==============================] - 814s 803ms/step - loss: 0.1216 - acc: 0.9521 - val_loss: 0.1719 - val_acc: 0.9344\n",
            "Epoch 5/5\n",
            "1013/1013 [==============================] - 818s 807ms/step - loss: 0.1018 - acc: 0.9566 - val_loss: 0.1809 - val_acc: 0.9322\n"
          ],
          "name": "stdout"
        }
      ]
    },
    {
      "cell_type": "code",
      "metadata": {
        "id": "2avDZJotukri"
      },
      "source": [
        "model.save_weights(\"drive/MyDrive/data/weights\")"
      ],
      "execution_count": null,
      "outputs": []
    },
    {
      "cell_type": "code",
      "metadata": {
        "colab": {
          "base_uri": "https://localhost:8080/"
        },
        "id": "OO-0a2dezD08",
        "outputId": "aa7678c6-b857-4ffe-ef8f-88b8031f3f64"
      },
      "source": [
        "model.evaluate(data.test_x,data.test_y)"
      ],
      "execution_count": null,
      "outputs": [
        {
          "output_type": "stream",
          "text": [
            "56/63 [=========================>....] - ETA: 2s - loss: 0.2038 - acc: 0.9185"
          ],
          "name": "stdout"
        }
      ]
    },
    {
      "cell_type": "code",
      "metadata": {
        "id": "oZaz2jc4-hxb"
      },
      "source": [
        ""
      ],
      "execution_count": null,
      "outputs": []
    }
  ]
}